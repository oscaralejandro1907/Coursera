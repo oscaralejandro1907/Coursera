{
 "cells": [
  {
   "cell_type": "markdown",
   "metadata": {},
   "source": [
    "# Chi-Squared"
   ]
  },
  {
   "cell_type": "markdown",
   "metadata": {},
   "source": [
    "When both variables (X and Y) are categorical <br>\n",
    "Steps: <br>\n",
    "1. A cross-tabulation\n",
    "2. The analysis and p-value"
   ]
  },
  {
   "cell_type": "markdown",
   "metadata": {},
   "source": [
    "You want to know if the specialists work equally frequently on both departments, or if they prefer one department over the other."
   ]
  },
  {
   "cell_type": "markdown",
   "metadata": {},
   "source": [
    "$H_0$: There is no relation between department and specialist <br>\n",
    "$H_1$: At least one of the specialist haas a preference to visit one of the departments"
   ]
  },
  {
   "cell_type": "code",
   "execution_count": 3,
   "metadata": {},
   "outputs": [
    {
     "data": {
      "text/html": [
       "<table class=\"dataframe\">\n",
       "<caption>A data.frame: 269 × 3</caption>\n",
       "<thead>\n",
       "\t<tr><th scope=col>Patient</th><th scope=col>Specialist</th><th scope=col>Department</th></tr>\n",
       "\t<tr><th scope=col>&lt;int&gt;</th><th scope=col>&lt;chr&gt;</th><th scope=col>&lt;chr&gt;</th></tr>\n",
       "</thead>\n",
       "<tbody>\n",
       "\t<tr><td> 1</td><td>P</td><td>A1</td></tr>\n",
       "\t<tr><td> 2</td><td>P</td><td>A1</td></tr>\n",
       "\t<tr><td> 3</td><td>Q</td><td>A1</td></tr>\n",
       "\t<tr><td> 4</td><td>R</td><td>A1</td></tr>\n",
       "\t<tr><td> 5</td><td>Q</td><td>A1</td></tr>\n",
       "\t<tr><td> 6</td><td>P</td><td>A1</td></tr>\n",
       "\t<tr><td> 7</td><td>P</td><td>A1</td></tr>\n",
       "\t<tr><td> 8</td><td>Q</td><td>A1</td></tr>\n",
       "\t<tr><td> 9</td><td>R</td><td>A1</td></tr>\n",
       "\t<tr><td>10</td><td>R</td><td>A4</td></tr>\n",
       "\t<tr><td>11</td><td>R</td><td>A1</td></tr>\n",
       "\t<tr><td>12</td><td>R</td><td>A1</td></tr>\n",
       "\t<tr><td>13</td><td>Q</td><td>A4</td></tr>\n",
       "\t<tr><td>14</td><td>Q</td><td>A4</td></tr>\n",
       "\t<tr><td>15</td><td>P</td><td>A1</td></tr>\n",
       "\t<tr><td>16</td><td>R</td><td>A1</td></tr>\n",
       "\t<tr><td>17</td><td>Q</td><td>A4</td></tr>\n",
       "\t<tr><td>18</td><td>P</td><td>A1</td></tr>\n",
       "\t<tr><td>19</td><td>Q</td><td>A1</td></tr>\n",
       "\t<tr><td>20</td><td>P</td><td>A1</td></tr>\n",
       "\t<tr><td>21</td><td>Q</td><td>A1</td></tr>\n",
       "\t<tr><td>22</td><td>Q</td><td>A1</td></tr>\n",
       "\t<tr><td>23</td><td>R</td><td>A1</td></tr>\n",
       "\t<tr><td>24</td><td>R</td><td>A4</td></tr>\n",
       "\t<tr><td>25</td><td>P</td><td>A1</td></tr>\n",
       "\t<tr><td>26</td><td>R</td><td>A1</td></tr>\n",
       "\t<tr><td>27</td><td>R</td><td>A1</td></tr>\n",
       "\t<tr><td>28</td><td>R</td><td>A1</td></tr>\n",
       "\t<tr><td>29</td><td>P</td><td>A1</td></tr>\n",
       "\t<tr><td>30</td><td>P</td><td>A1</td></tr>\n",
       "\t<tr><td>⋮</td><td>⋮</td><td>⋮</td></tr>\n",
       "\t<tr><td>240</td><td>P</td><td>A1</td></tr>\n",
       "\t<tr><td>241</td><td>R</td><td>A1</td></tr>\n",
       "\t<tr><td>242</td><td>P</td><td>A1</td></tr>\n",
       "\t<tr><td>243</td><td>R</td><td>A4</td></tr>\n",
       "\t<tr><td>244</td><td>R</td><td>A4</td></tr>\n",
       "\t<tr><td>245</td><td>Q</td><td>A1</td></tr>\n",
       "\t<tr><td>246</td><td>R</td><td>A4</td></tr>\n",
       "\t<tr><td>247</td><td>P</td><td>A1</td></tr>\n",
       "\t<tr><td>248</td><td>P</td><td>A1</td></tr>\n",
       "\t<tr><td>249</td><td>R</td><td>A1</td></tr>\n",
       "\t<tr><td>250</td><td>P</td><td>A1</td></tr>\n",
       "\t<tr><td>251</td><td>R</td><td>A1</td></tr>\n",
       "\t<tr><td>252</td><td>R</td><td>A1</td></tr>\n",
       "\t<tr><td>253</td><td>R</td><td>A1</td></tr>\n",
       "\t<tr><td>254</td><td>R</td><td>A1</td></tr>\n",
       "\t<tr><td>255</td><td>R</td><td>A4</td></tr>\n",
       "\t<tr><td>256</td><td>Q</td><td>A1</td></tr>\n",
       "\t<tr><td>257</td><td>R</td><td>A1</td></tr>\n",
       "\t<tr><td>258</td><td>R</td><td>A1</td></tr>\n",
       "\t<tr><td>259</td><td>R</td><td>A4</td></tr>\n",
       "\t<tr><td>260</td><td>P</td><td>A1</td></tr>\n",
       "\t<tr><td>261</td><td>R</td><td>A4</td></tr>\n",
       "\t<tr><td>262</td><td>R</td><td>A4</td></tr>\n",
       "\t<tr><td>263</td><td>P</td><td>A1</td></tr>\n",
       "\t<tr><td>264</td><td>R</td><td>A4</td></tr>\n",
       "\t<tr><td>265</td><td>R</td><td>A4</td></tr>\n",
       "\t<tr><td>266</td><td>Q</td><td>A1</td></tr>\n",
       "\t<tr><td>267</td><td>R</td><td>A1</td></tr>\n",
       "\t<tr><td>268</td><td>R</td><td>A1</td></tr>\n",
       "\t<tr><td>269</td><td>P</td><td>A1</td></tr>\n",
       "</tbody>\n",
       "</table>\n"
      ],
      "text/latex": [
       "A data.frame: 269 × 3\n",
       "\\begin{tabular}{lll}\n",
       " Patient & Specialist & Department\\\\\n",
       " <int> & <chr> & <chr>\\\\\n",
       "\\hline\n",
       "\t  1 & P & A1\\\\\n",
       "\t  2 & P & A1\\\\\n",
       "\t  3 & Q & A1\\\\\n",
       "\t  4 & R & A1\\\\\n",
       "\t  5 & Q & A1\\\\\n",
       "\t  6 & P & A1\\\\\n",
       "\t  7 & P & A1\\\\\n",
       "\t  8 & Q & A1\\\\\n",
       "\t  9 & R & A1\\\\\n",
       "\t 10 & R & A4\\\\\n",
       "\t 11 & R & A1\\\\\n",
       "\t 12 & R & A1\\\\\n",
       "\t 13 & Q & A4\\\\\n",
       "\t 14 & Q & A4\\\\\n",
       "\t 15 & P & A1\\\\\n",
       "\t 16 & R & A1\\\\\n",
       "\t 17 & Q & A4\\\\\n",
       "\t 18 & P & A1\\\\\n",
       "\t 19 & Q & A1\\\\\n",
       "\t 20 & P & A1\\\\\n",
       "\t 21 & Q & A1\\\\\n",
       "\t 22 & Q & A1\\\\\n",
       "\t 23 & R & A1\\\\\n",
       "\t 24 & R & A4\\\\\n",
       "\t 25 & P & A1\\\\\n",
       "\t 26 & R & A1\\\\\n",
       "\t 27 & R & A1\\\\\n",
       "\t 28 & R & A1\\\\\n",
       "\t 29 & P & A1\\\\\n",
       "\t 30 & P & A1\\\\\n",
       "\t ⋮ & ⋮ & ⋮\\\\\n",
       "\t 240 & P & A1\\\\\n",
       "\t 241 & R & A1\\\\\n",
       "\t 242 & P & A1\\\\\n",
       "\t 243 & R & A4\\\\\n",
       "\t 244 & R & A4\\\\\n",
       "\t 245 & Q & A1\\\\\n",
       "\t 246 & R & A4\\\\\n",
       "\t 247 & P & A1\\\\\n",
       "\t 248 & P & A1\\\\\n",
       "\t 249 & R & A1\\\\\n",
       "\t 250 & P & A1\\\\\n",
       "\t 251 & R & A1\\\\\n",
       "\t 252 & R & A1\\\\\n",
       "\t 253 & R & A1\\\\\n",
       "\t 254 & R & A1\\\\\n",
       "\t 255 & R & A4\\\\\n",
       "\t 256 & Q & A1\\\\\n",
       "\t 257 & R & A1\\\\\n",
       "\t 258 & R & A1\\\\\n",
       "\t 259 & R & A4\\\\\n",
       "\t 260 & P & A1\\\\\n",
       "\t 261 & R & A4\\\\\n",
       "\t 262 & R & A4\\\\\n",
       "\t 263 & P & A1\\\\\n",
       "\t 264 & R & A4\\\\\n",
       "\t 265 & R & A4\\\\\n",
       "\t 266 & Q & A1\\\\\n",
       "\t 267 & R & A1\\\\\n",
       "\t 268 & R & A1\\\\\n",
       "\t 269 & P & A1\\\\\n",
       "\\end{tabular}\n"
      ],
      "text/markdown": [
       "\n",
       "A data.frame: 269 × 3\n",
       "\n",
       "| Patient &lt;int&gt; | Specialist &lt;chr&gt; | Department &lt;chr&gt; |\n",
       "|---|---|---|\n",
       "|  1 | P | A1 |\n",
       "|  2 | P | A1 |\n",
       "|  3 | Q | A1 |\n",
       "|  4 | R | A1 |\n",
       "|  5 | Q | A1 |\n",
       "|  6 | P | A1 |\n",
       "|  7 | P | A1 |\n",
       "|  8 | Q | A1 |\n",
       "|  9 | R | A1 |\n",
       "| 10 | R | A4 |\n",
       "| 11 | R | A1 |\n",
       "| 12 | R | A1 |\n",
       "| 13 | Q | A4 |\n",
       "| 14 | Q | A4 |\n",
       "| 15 | P | A1 |\n",
       "| 16 | R | A1 |\n",
       "| 17 | Q | A4 |\n",
       "| 18 | P | A1 |\n",
       "| 19 | Q | A1 |\n",
       "| 20 | P | A1 |\n",
       "| 21 | Q | A1 |\n",
       "| 22 | Q | A1 |\n",
       "| 23 | R | A1 |\n",
       "| 24 | R | A4 |\n",
       "| 25 | P | A1 |\n",
       "| 26 | R | A1 |\n",
       "| 27 | R | A1 |\n",
       "| 28 | R | A1 |\n",
       "| 29 | P | A1 |\n",
       "| 30 | P | A1 |\n",
       "| ⋮ | ⋮ | ⋮ |\n",
       "| 240 | P | A1 |\n",
       "| 241 | R | A1 |\n",
       "| 242 | P | A1 |\n",
       "| 243 | R | A4 |\n",
       "| 244 | R | A4 |\n",
       "| 245 | Q | A1 |\n",
       "| 246 | R | A4 |\n",
       "| 247 | P | A1 |\n",
       "| 248 | P | A1 |\n",
       "| 249 | R | A1 |\n",
       "| 250 | P | A1 |\n",
       "| 251 | R | A1 |\n",
       "| 252 | R | A1 |\n",
       "| 253 | R | A1 |\n",
       "| 254 | R | A1 |\n",
       "| 255 | R | A4 |\n",
       "| 256 | Q | A1 |\n",
       "| 257 | R | A1 |\n",
       "| 258 | R | A1 |\n",
       "| 259 | R | A4 |\n",
       "| 260 | P | A1 |\n",
       "| 261 | R | A4 |\n",
       "| 262 | R | A4 |\n",
       "| 263 | P | A1 |\n",
       "| 264 | R | A4 |\n",
       "| 265 | R | A4 |\n",
       "| 266 | Q | A1 |\n",
       "| 267 | R | A1 |\n",
       "| 268 | R | A1 |\n",
       "| 269 | P | A1 |\n",
       "\n"
      ],
      "text/plain": [
       "    Patient Specialist Department\n",
       "1    1      P          A1        \n",
       "2    2      P          A1        \n",
       "3    3      Q          A1        \n",
       "4    4      R          A1        \n",
       "5    5      Q          A1        \n",
       "6    6      P          A1        \n",
       "7    7      P          A1        \n",
       "8    8      Q          A1        \n",
       "9    9      R          A1        \n",
       "10  10      R          A4        \n",
       "11  11      R          A1        \n",
       "12  12      R          A1        \n",
       "13  13      Q          A4        \n",
       "14  14      Q          A4        \n",
       "15  15      P          A1        \n",
       "16  16      R          A1        \n",
       "17  17      Q          A4        \n",
       "18  18      P          A1        \n",
       "19  19      Q          A1        \n",
       "20  20      P          A1        \n",
       "21  21      Q          A1        \n",
       "22  22      Q          A1        \n",
       "23  23      R          A1        \n",
       "24  24      R          A4        \n",
       "25  25      P          A1        \n",
       "26  26      R          A1        \n",
       "27  27      R          A1        \n",
       "28  28      R          A1        \n",
       "29  29      P          A1        \n",
       "30  30      P          A1        \n",
       "⋮   ⋮       ⋮          ⋮         \n",
       "240 240     P          A1        \n",
       "241 241     R          A1        \n",
       "242 242     P          A1        \n",
       "243 243     R          A4        \n",
       "244 244     R          A4        \n",
       "245 245     Q          A1        \n",
       "246 246     R          A4        \n",
       "247 247     P          A1        \n",
       "248 248     P          A1        \n",
       "249 249     R          A1        \n",
       "250 250     P          A1        \n",
       "251 251     R          A1        \n",
       "252 252     R          A1        \n",
       "253 253     R          A1        \n",
       "254 254     R          A1        \n",
       "255 255     R          A4        \n",
       "256 256     Q          A1        \n",
       "257 257     R          A1        \n",
       "258 258     R          A1        \n",
       "259 259     R          A4        \n",
       "260 260     P          A1        \n",
       "261 261     R          A4        \n",
       "262 262     R          A4        \n",
       "263 263     P          A1        \n",
       "264 264     R          A4        \n",
       "265 265     R          A4        \n",
       "266 266     Q          A1        \n",
       "267 267     R          A1        \n",
       "268 268     R          A1        \n",
       "269 269     P          A1        "
      ]
     },
     "metadata": {},
     "output_type": "display_data"
    }
   ],
   "source": [
    "hospital<-read.csv(\"Hospital-Table 1.csv\",\n",
    "               header = TRUE,\n",
    "               sep = \",\",\n",
    "               stringsAsFactors = FALSE,\n",
    "               skip = 7) [ ,1:3]\n",
    "hospital"
   ]
  },
  {
   "cell_type": "code",
   "execution_count": 4,
   "metadata": {},
   "outputs": [
    {
     "data": {
      "text/plain": [
       "    \n",
       "      P  Q  R\n",
       "  A1 81 52 78\n",
       "  A4 17 15 26"
      ]
     },
     "metadata": {},
     "output_type": "display_data"
    }
   ],
   "source": [
    "table(hospital$Department,hospital$Specialist) #Perform the cross tabulation"
   ]
  },
  {
   "cell_type": "code",
   "execution_count": 5,
   "metadata": {},
   "outputs": [
    {
     "data": {
      "text/plain": [
       "\n",
       "\tPearson's Chi-squared test\n",
       "\n",
       "data:  hospital$Specialist and hospital$Department\n",
       "X-squared = 1.7834, df = 2, p-value = 0.41\n"
      ]
     },
     "metadata": {},
     "output_type": "display_data"
    }
   ],
   "source": [
    "chisq.test(x=hospital$Specialist,y=hospital$Department)"
   ]
  },
  {
   "cell_type": "markdown",
   "metadata": {},
   "source": [
    "The $p$-value is much bigger than $0.05$, therefore there is no evidence to reject the null hypothesis and stick to it. We cannot support our alternative hypothesis.<br>\n",
    "Apparently, the department where you are lying does not affect who treats you."
   ]
  },
  {
   "cell_type": "markdown",
   "metadata": {},
   "source": [
    "## Exercise Printers"
   ]
  },
  {
   "cell_type": "markdown",
   "metadata": {},
   "source": [
    "Printer AX-2 and printer AX-4. You would like to know if one of these produces prints of higher quality."
   ]
  },
  {
   "cell_type": "markdown",
   "metadata": {},
   "source": [
    "The Y-variable or the factor that is being influenced is quality. Measured in terms of uniformity.<br>\n",
    "The X-variable here is printer."
   ]
  },
  {
   "cell_type": "markdown",
   "metadata": {},
   "source": [
    "$H_0$: There is no relationship between the type of printer and the uniformity. <br>\n",
    "$H_1$: The type of printer influences the uniformity of the prints"
   ]
  },
  {
   "cell_type": "code",
   "execution_count": 2,
   "metadata": {},
   "outputs": [
    {
     "data": {
      "text/html": [
       "<table class=\"dataframe\">\n",
       "<caption>A data.frame: 2 × 4</caption>\n",
       "<thead>\n",
       "\t<tr><th scope=col>Printer</th><th scope=col>Good</th><th scope=col>Dubious</th><th scope=col>Bad</th></tr>\n",
       "\t<tr><th scope=col>&lt;chr&gt;</th><th scope=col>&lt;int&gt;</th><th scope=col>&lt;int&gt;</th><th scope=col>&lt;int&gt;</th></tr>\n",
       "</thead>\n",
       "<tbody>\n",
       "\t<tr><td>AX-4</td><td>10</td><td>13</td><td>17</td></tr>\n",
       "\t<tr><td>AX-2</td><td>19</td><td>15</td><td> 6</td></tr>\n",
       "</tbody>\n",
       "</table>\n"
      ],
      "text/latex": [
       "A data.frame: 2 × 4\n",
       "\\begin{tabular}{llll}\n",
       " Printer & Good & Dubious & Bad\\\\\n",
       " <chr> & <int> & <int> & <int>\\\\\n",
       "\\hline\n",
       "\t AX-4 & 10 & 13 & 17\\\\\n",
       "\t AX-2 & 19 & 15 &  6\\\\\n",
       "\\end{tabular}\n"
      ],
      "text/markdown": [
       "\n",
       "A data.frame: 2 × 4\n",
       "\n",
       "| Printer &lt;chr&gt; | Good &lt;int&gt; | Dubious &lt;int&gt; | Bad &lt;int&gt; |\n",
       "|---|---|---|---|\n",
       "| AX-4 | 10 | 13 | 17 |\n",
       "| AX-2 | 19 | 15 |  6 |\n",
       "\n"
      ],
      "text/plain": [
       "  Printer Good Dubious Bad\n",
       "1 AX-4    10   13      17 \n",
       "2 AX-2    19   15       6 "
      ]
     },
     "metadata": {},
     "output_type": "display_data"
    }
   ],
   "source": [
    "printers<-read.csv(\"Printers-Table 1.csv\",\n",
    "               header = TRUE,\n",
    "               sep = \",\",\n",
    "               stringsAsFactors = FALSE,\n",
    "               skip = 6) [ ,1:4]\n",
    "printers"
   ]
  },
  {
   "cell_type": "code",
   "execution_count": 3,
   "metadata": {},
   "outputs": [
    {
     "data": {
      "text/plain": [
       "\n",
       "\tPearson's Chi-squared test\n",
       "\n",
       "data:  printers[, 2:4]\n",
       "X-squared = 8.1968, df = 2, p-value = 0.0166\n"
      ]
     },
     "metadata": {},
     "output_type": "display_data"
    }
   ],
   "source": [
    "chisq.test(printers[,2:4])"
   ]
  },
  {
   "cell_type": "markdown",
   "metadata": {},
   "source": [
    "The $p$-value used smaller than 0.05. Which means, that the effect statistically significant and the alternative hypothesis can be supported. <br>\n",
    "This means that the difference in quality of prints is not due to random fluctuations and it can be attributed to the printer."
   ]
  },
  {
   "cell_type": "code",
   "execution_count": null,
   "metadata": {},
   "outputs": [],
   "source": []
  }
 ],
 "metadata": {
  "kernelspec": {
   "display_name": "R",
   "language": "R",
   "name": "ir"
  },
  "language_info": {
   "codemirror_mode": "r",
   "file_extension": ".r",
   "mimetype": "text/x-r-source",
   "name": "R",
   "pygments_lexer": "r",
   "version": "4.1.0"
  }
 },
 "nbformat": 4,
 "nbformat_minor": 4
}
